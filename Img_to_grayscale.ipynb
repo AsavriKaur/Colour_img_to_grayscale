{
  "nbformat": 4,
  "nbformat_minor": 0,
  "metadata": {
    "colab": {
      "provenance": [],
      "authorship_tag": "ABX9TyMVCaS0QM4KEL1jHFeMgtES",
      "include_colab_link": true
    },
    "kernelspec": {
      "name": "python3",
      "display_name": "Python 3"
    },
    "language_info": {
      "name": "python"
    }
  },
  "cells": [
    {
      "cell_type": "markdown",
      "metadata": {
        "id": "view-in-github",
        "colab_type": "text"
      },
      "source": [
        "<a href=\"https://colab.research.google.com/github/AsavriKaur/Colour_img_to_grayscale/blob/main/Img_to_grayscale.ipynb\" target=\"_parent\"><img src=\"https://colab.research.google.com/assets/colab-badge.svg\" alt=\"Open In Colab\"/></a>"
      ]
    },
    {
      "cell_type": "markdown",
      "source": [
        "Convert image to grayscale"
      ],
      "metadata": {
        "id": "BWue2UGsqTh0"
      }
    },
    {
      "cell_type": "code",
      "source": [
        "from PIL import Image\n",
        "img_rgb = Image.open('Picture3.png').convert('L')\n",
        "img_rgb.save('Picture3.png')"
      ],
      "metadata": {
        "id": "vlOWBImGnsWS"
      },
      "execution_count": 14,
      "outputs": []
    }
  ]
}